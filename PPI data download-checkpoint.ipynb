{
 "cells": [
  {
   "cell_type": "code",
   "execution_count": 1,
   "metadata": {},
   "outputs": [],
   "source": [
    "import glob"
   ]
  },
  {
   "cell_type": "code",
   "execution_count": null,
   "metadata": {},
   "outputs": [],
   "source": []
  },
  {
   "cell_type": "code",
   "execution_count": 7,
   "metadata": {},
   "outputs": [
    {
     "data": {
      "text/plain": [
       "['Desktop/desktop files/datasets/_/dset72\\\\1ak4_A.itf',\n",
       " 'Desktop/desktop files/datasets/_/dset72\\\\1ak4_D.itf',\n",
       " 'Desktop/desktop files/datasets/_/dset72\\\\1b6c_A.itf',\n",
       " 'Desktop/desktop files/datasets/_/dset72\\\\1b6c_B.itf',\n",
       " 'Desktop/desktop files/datasets/_/dset72\\\\1dfj_E.itf',\n",
       " 'Desktop/desktop files/datasets/_/dset72\\\\1dfj_I.itf',\n",
       " 'Desktop/desktop files/datasets/_/dset72\\\\1e4k_AB.itf',\n",
       " 'Desktop/desktop files/datasets/_/dset72\\\\1e4k_C.itf',\n",
       " 'Desktop/desktop files/datasets/_/dset72\\\\1e6e_A.itf',\n",
       " 'Desktop/desktop files/datasets/_/dset72\\\\1e6e_B.itf',\n",
       " 'Desktop/desktop files/datasets/_/dset72\\\\1eer_A.itf',\n",
       " 'Desktop/desktop files/datasets/_/dset72\\\\1eer_BC.itf',\n",
       " 'Desktop/desktop files/datasets/_/dset72\\\\1efn_A.itf',\n",
       " 'Desktop/desktop files/datasets/_/dset72\\\\1efn_B.itf',\n",
       " 'Desktop/desktop files/datasets/_/dset72\\\\1ewy_A.itf',\n",
       " 'Desktop/desktop files/datasets/_/dset72\\\\1ewy_C.itf',\n",
       " 'Desktop/desktop files/datasets/_/dset72\\\\1f34_A.itf',\n",
       " 'Desktop/desktop files/datasets/_/dset72\\\\1f34_B.itf',\n",
       " 'Desktop/desktop files/datasets/_/dset72\\\\1fc2_C.itf',\n",
       " 'Desktop/desktop files/datasets/_/dset72\\\\1fc2_D.itf',\n",
       " 'Desktop/desktop files/datasets/_/dset72\\\\1gcq_B.itf',\n",
       " 'Desktop/desktop files/datasets/_/dset72\\\\1gcq_C.itf',\n",
       " 'Desktop/desktop files/datasets/_/dset72\\\\1ghq_A.itf',\n",
       " 'Desktop/desktop files/datasets/_/dset72\\\\1ghq_B.itf',\n",
       " 'Desktop/desktop files/datasets/_/dset72\\\\1gla_F.itf',\n",
       " 'Desktop/desktop files/datasets/_/dset72\\\\1gla_G.itf',\n",
       " 'Desktop/desktop files/datasets/_/dset72\\\\1ib1_AB.itf',\n",
       " 'Desktop/desktop files/datasets/_/dset72\\\\1ib1_E.itf',\n",
       " 'Desktop/desktop files/datasets/_/dset72\\\\1jmo_A.itf',\n",
       " 'Desktop/desktop files/datasets/_/dset72\\\\1jmo_LH.itf',\n",
       " 'Desktop/desktop files/datasets/_/dset72\\\\1k5d_AB.itf',\n",
       " 'Desktop/desktop files/datasets/_/dset72\\\\1k5d_C.itf',\n",
       " 'Desktop/desktop files/datasets/_/dset72\\\\1k74_AB.itf',\n",
       " 'Desktop/desktop files/datasets/_/dset72\\\\1k74_DE.itf',\n",
       " 'Desktop/desktop files/datasets/_/dset72\\\\1kac_A.itf',\n",
       " 'Desktop/desktop files/datasets/_/dset72\\\\1kac_B.itf',\n",
       " 'Desktop/desktop files/datasets/_/dset72\\\\1kkl_ABC.itf',\n",
       " 'Desktop/desktop files/datasets/_/dset72\\\\1kkl_H.itf',\n",
       " 'Desktop/desktop files/datasets/_/dset72\\\\1ktz_A.itf',\n",
       " 'Desktop/desktop files/datasets/_/dset72\\\\1ktz_B.itf',\n",
       " 'Desktop/desktop files/datasets/_/dset72\\\\1mah_A.itf',\n",
       " 'Desktop/desktop files/datasets/_/dset72\\\\1mah_F.itf',\n",
       " 'Desktop/desktop files/datasets/_/dset72\\\\1ml0_A.itf',\n",
       " 'Desktop/desktop files/datasets/_/dset72\\\\1ml0_D.itf',\n",
       " 'Desktop/desktop files/datasets/_/dset72\\\\1n2c_ABCD.itf',\n",
       " 'Desktop/desktop files/datasets/_/dset72\\\\1n2c_EF.itf',\n",
       " 'Desktop/desktop files/datasets/_/dset72\\\\1nw9_A.itf',\n",
       " 'Desktop/desktop files/datasets/_/dset72\\\\1nw9_B.itf',\n",
       " 'Desktop/desktop files/datasets/_/dset72\\\\1pxv_A.itf',\n",
       " 'Desktop/desktop files/datasets/_/dset72\\\\1pxv_C.itf',\n",
       " 'Desktop/desktop files/datasets/_/dset72\\\\1qa9_A.itf',\n",
       " 'Desktop/desktop files/datasets/_/dset72\\\\1qa9_B.itf',\n",
       " 'Desktop/desktop files/datasets/_/dset72\\\\1rlb_ABCD.itf',\n",
       " 'Desktop/desktop files/datasets/_/dset72\\\\1rlb_E.itf',\n",
       " 'Desktop/desktop files/datasets/_/dset72\\\\1udi_E.itf',\n",
       " 'Desktop/desktop files/datasets/_/dset72\\\\1udi_I.itf',\n",
       " 'Desktop/desktop files/datasets/_/dset72\\\\1xqs_A.itf',\n",
       " 'Desktop/desktop files/datasets/_/dset72\\\\1xqs_C.itf',\n",
       " 'Desktop/desktop files/datasets/_/dset72\\\\1yvb_A.itf',\n",
       " 'Desktop/desktop files/datasets/_/dset72\\\\1yvb_I.itf',\n",
       " 'Desktop/desktop files/datasets/_/dset72\\\\2ajf_A.itf',\n",
       " 'Desktop/desktop files/datasets/_/dset72\\\\2ajf_E.itf',\n",
       " 'Desktop/desktop files/datasets/_/dset72\\\\2hqs_A.itf',\n",
       " 'Desktop/desktop files/datasets/_/dset72\\\\2hqs_H.itf',\n",
       " 'Desktop/desktop files/datasets/_/dset72\\\\2hrk_A.itf',\n",
       " 'Desktop/desktop files/datasets/_/dset72\\\\2hrk_B.itf',\n",
       " 'Desktop/desktop files/datasets/_/dset72\\\\2mta_A.itf',\n",
       " 'Desktop/desktop files/datasets/_/dset72\\\\2mta_HL.itf',\n",
       " 'Desktop/desktop files/datasets/_/dset72\\\\2o8v_A.itf',\n",
       " 'Desktop/desktop files/datasets/_/dset72\\\\2o8v_B.itf',\n",
       " 'Desktop/desktop files/datasets/_/dset72\\\\7cei_A.itf',\n",
       " 'Desktop/desktop files/datasets/_/dset72\\\\7cei_B.itf']"
      ]
     },
     "execution_count": 7,
     "metadata": {},
     "output_type": "execute_result"
    }
   ],
   "source": [
    "glob.glob('Desktop/desktop files/datasets/_/dset72/*')"
   ]
  },
  {
   "cell_type": "code",
   "execution_count": 9,
   "metadata": {},
   "outputs": [],
   "source": [
    "lst = []\n",
    "for path in glob.glob('Desktop/desktop files/datasets/_/dset72/*'):\n",
    "    idx = path.split('\\\\')[1][0:4]\n",
    "    if idx not in lst:\n",
    "        lst.append(idx)"
   ]
  },
  {
   "cell_type": "code",
   "execution_count": null,
   "metadata": {},
   "outputs": [],
   "source": []
  }
 ],
 "metadata": {
  "kernelspec": {
   "display_name": "Python 3",
   "language": "python",
   "name": "python3"
  },
  "language_info": {
   "codemirror_mode": {
    "name": "ipython",
    "version": 3
   },
   "file_extension": ".py",
   "mimetype": "text/x-python",
   "name": "python",
   "nbconvert_exporter": "python",
   "pygments_lexer": "ipython3",
   "version": "3.7.6"
  }
 },
 "nbformat": 4,
 "nbformat_minor": 4
}
